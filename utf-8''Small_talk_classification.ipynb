{
  "cells": [
    {
      "metadata": {
        "trusted": true
      },
      "cell_type": "code",
      "source": "import pandas as pd\nimport numpy as np\nimport sklearn\nimport nltk",
      "execution_count": 1,
      "outputs": []
    },
    {
      "metadata": {
        "trusted": true
      },
      "cell_type": "code",
      "source": "data=pd.read_csv('train.csv')",
      "execution_count": 2,
      "outputs": []
    },
    {
      "metadata": {
        "trusted": true
      },
      "cell_type": "code",
      "source": "data.head(20)",
      "execution_count": 8,
      "outputs": [
        {
          "output_type": "execute_result",
          "execution_count": 8,
          "data": {
            "text/html": "<div>\n<style scoped>\n    .dataframe tbody tr th:only-of-type {\n        vertical-align: middle;\n    }\n\n    .dataframe tbody tr th {\n        vertical-align: top;\n    }\n\n    .dataframe thead th {\n        text-align: right;\n    }\n</style>\n<table border=\"1\" class=\"dataframe\">\n  <thead>\n    <tr style=\"text-align: right;\">\n      <th></th>\n      <th>uid</th>\n      <th>message</th>\n      <th>label</th>\n    </tr>\n  </thead>\n  <tbody>\n    <tr>\n      <th>0</th>\n      <td>202723</td>\n      <td>Hey, can you find me the nearest book store?</td>\n      <td>0</td>\n    </tr>\n    <tr>\n      <th>1</th>\n      <td>387547</td>\n      <td>How do your know my name</td>\n      <td>1</td>\n    </tr>\n    <tr>\n      <th>2</th>\n      <td>80045</td>\n      <td>So should I eligible for cashback?</td>\n      <td>0</td>\n    </tr>\n    <tr>\n      <th>3</th>\n      <td>417835</td>\n      <td>paradeep. 👍</td>\n      <td>1</td>\n    </tr>\n    <tr>\n      <th>4</th>\n      <td>386038</td>\n      <td>U r person</td>\n      <td>1</td>\n    </tr>\n    <tr>\n      <th>5</th>\n      <td>315073</td>\n      <td>Then i need some details about the examination</td>\n      <td>1</td>\n    </tr>\n    <tr>\n      <th>6</th>\n      <td>412275</td>\n      <td>ya. ok</td>\n      <td>1</td>\n    </tr>\n    <tr>\n      <th>7</th>\n      <td>370460</td>\n      <td>r u  a human? or anything</td>\n      <td>1</td>\n    </tr>\n    <tr>\n      <th>8</th>\n      <td>125298</td>\n      <td>Departure City: Goa\\nArrival City: Mumbai\\nDep...</td>\n      <td>0</td>\n    </tr>\n    <tr>\n      <th>9</th>\n      <td>195639</td>\n      <td>required duronto express schedule</td>\n      <td>0</td>\n    </tr>\n    <tr>\n      <th>10</th>\n      <td>173303</td>\n      <td>total runs of sunrisers</td>\n      <td>0</td>\n    </tr>\n    <tr>\n      <th>11</th>\n      <td>73773</td>\n      <td>is there a ny pvr near pheonix mall in Chennai</td>\n      <td>0</td>\n    </tr>\n    <tr>\n      <th>12</th>\n      <td>178614</td>\n      <td>Can u search a sbi bank near to masat</td>\n      <td>0</td>\n    </tr>\n    <tr>\n      <th>13</th>\n      <td>269941</td>\n      <td>Show me detail only Oriental Bank of commerce ...</td>\n      <td>0</td>\n    </tr>\n    <tr>\n      <th>14</th>\n      <td>31056</td>\n      <td>Sundays</td>\n      <td>0</td>\n    </tr>\n    <tr>\n      <th>15</th>\n      <td>20485</td>\n      <td>not mch</td>\n      <td>1</td>\n    </tr>\n    <tr>\n      <th>16</th>\n      <td>235022</td>\n      <td>PVR hisar road</td>\n      <td>0</td>\n    </tr>\n    <tr>\n      <th>17</th>\n      <td>160237</td>\n      <td>3 adults hotel veeniola for 1 night</td>\n      <td>0</td>\n    </tr>\n    <tr>\n      <th>18</th>\n      <td>97644</td>\n      <td>Call Siddhant SVNIT</td>\n      <td>0</td>\n    </tr>\n    <tr>\n      <th>19</th>\n      <td>431217</td>\n      <td>👍. okk byee tc</td>\n      <td>1</td>\n    </tr>\n  </tbody>\n</table>\n</div>",
            "text/plain": "       uid                                            message  label\n0   202723       Hey, can you find me the nearest book store?      0\n1   387547                           How do your know my name      1\n2    80045                 So should I eligible for cashback?      0\n3   417835                                        paradeep. 👍      1\n4   386038                                         U r person      1\n5   315073     Then i need some details about the examination      1\n6   412275                                             ya. ok      1\n7   370460                          r u  a human? or anything      1\n8   125298  Departure City: Goa\\nArrival City: Mumbai\\nDep...      0\n9   195639                  required duronto express schedule      0\n10  173303                            total runs of sunrisers      0\n11   73773     is there a ny pvr near pheonix mall in Chennai      0\n12  178614              Can u search a sbi bank near to masat      0\n13  269941  Show me detail only Oriental Bank of commerce ...      0\n14   31056                                            Sundays      0\n15   20485                                            not mch      1\n16  235022                                     PVR hisar road      0\n17  160237                3 adults hotel veeniola for 1 night      0\n18   97644                                Call Siddhant SVNIT      0\n19  431217                                     👍. okk byee tc      1"
          },
          "metadata": {}
        }
      ]
    },
    {
      "metadata": {
        "trusted": true
      },
      "cell_type": "code",
      "source": "data.message[3]",
      "execution_count": 7,
      "outputs": [
        {
          "output_type": "execute_result",
          "execution_count": 7,
          "data": {
            "text/plain": "'paradeep. 👍'"
          },
          "metadata": {}
        }
      ]
    },
    {
      "metadata": {
        "trusted": true
      },
      "cell_type": "code",
      "source": "data.shape",
      "execution_count": 4,
      "outputs": [
        {
          "output_type": "execute_result",
          "execution_count": 4,
          "data": {
            "text/plain": "(182234, 3)"
          },
          "metadata": {}
        }
      ]
    },
    {
      "metadata": {
        "trusted": true
      },
      "cell_type": "code",
      "source": "data.isnull().sum().sort_values(ascending=False)",
      "execution_count": 5,
      "outputs": [
        {
          "output_type": "execute_result",
          "execution_count": 5,
          "data": {
            "text/plain": "label      0\nmessage    0\nuid        0\ndtype: int64"
          },
          "metadata": {}
        }
      ]
    },
    {
      "metadata": {
        "trusted": true
      },
      "cell_type": "code",
      "source": "data['label'].value_counts()# not an unbalanced dataset",
      "execution_count": 6,
      "outputs": [
        {
          "output_type": "execute_result",
          "execution_count": 6,
          "data": {
            "text/plain": "1    94404\n0    87830\nName: label, dtype: int64"
          },
          "metadata": {}
        }
      ]
    },
    {
      "metadata": {},
      "cell_type": "markdown",
      "source": "#### Preprocessing of the text data"
    },
    {
      "metadata": {
        "trusted": true
      },
      "cell_type": "code",
      "source": "# remove special characters, numbers, punctuations\ndata['message_pre'] = data['message'].str.replace(\"[^a-zA-Z#]\", \" \")\ndata.head()",
      "execution_count": 10,
      "outputs": [
        {
          "output_type": "execute_result",
          "execution_count": 10,
          "data": {
            "text/html": "<div>\n<style scoped>\n    .dataframe tbody tr th:only-of-type {\n        vertical-align: middle;\n    }\n\n    .dataframe tbody tr th {\n        vertical-align: top;\n    }\n\n    .dataframe thead th {\n        text-align: right;\n    }\n</style>\n<table border=\"1\" class=\"dataframe\">\n  <thead>\n    <tr style=\"text-align: right;\">\n      <th></th>\n      <th>uid</th>\n      <th>message</th>\n      <th>label</th>\n      <th>message_pre</th>\n    </tr>\n  </thead>\n  <tbody>\n    <tr>\n      <th>0</th>\n      <td>202723</td>\n      <td>Hey, can you find me the nearest book store?</td>\n      <td>0</td>\n      <td>Hey  can you find me the nearest book store</td>\n    </tr>\n    <tr>\n      <th>1</th>\n      <td>387547</td>\n      <td>How do your know my name</td>\n      <td>1</td>\n      <td>How do your know my name</td>\n    </tr>\n    <tr>\n      <th>2</th>\n      <td>80045</td>\n      <td>So should I eligible for cashback?</td>\n      <td>0</td>\n      <td>So should I eligible for cashback</td>\n    </tr>\n    <tr>\n      <th>3</th>\n      <td>417835</td>\n      <td>paradeep. 👍</td>\n      <td>1</td>\n      <td>paradeep</td>\n    </tr>\n    <tr>\n      <th>4</th>\n      <td>386038</td>\n      <td>U r person</td>\n      <td>1</td>\n      <td>U r person</td>\n    </tr>\n  </tbody>\n</table>\n</div>",
            "text/plain": "      uid                                       message  label  \\\n0  202723  Hey, can you find me the nearest book store?      0   \n1  387547                      How do your know my name      1   \n2   80045            So should I eligible for cashback?      0   \n3  417835                                   paradeep. 👍      1   \n4  386038                                    U r person      1   \n\n                                    message_pre  \n0  Hey  can you find me the nearest book store   \n1                      How do your know my name  \n2            So should I eligible for cashback   \n3                                   paradeep     \n4                                    U r person  "
          },
          "metadata": {}
        }
      ]
    },
    {
      "metadata": {
        "trusted": true
      },
      "cell_type": "code",
      "source": "data['message_pre']=data['message_pre'].apply(lambda x: x.split(' '))",
      "execution_count": 13,
      "outputs": []
    },
    {
      "metadata": {
        "trusted": true
      },
      "cell_type": "code",
      "source": "data.head()",
      "execution_count": 14,
      "outputs": [
        {
          "output_type": "execute_result",
          "execution_count": 14,
          "data": {
            "text/html": "<div>\n<style scoped>\n    .dataframe tbody tr th:only-of-type {\n        vertical-align: middle;\n    }\n\n    .dataframe tbody tr th {\n        vertical-align: top;\n    }\n\n    .dataframe thead th {\n        text-align: right;\n    }\n</style>\n<table border=\"1\" class=\"dataframe\">\n  <thead>\n    <tr style=\"text-align: right;\">\n      <th></th>\n      <th>uid</th>\n      <th>message</th>\n      <th>label</th>\n      <th>message_pre</th>\n    </tr>\n  </thead>\n  <tbody>\n    <tr>\n      <th>0</th>\n      <td>202723</td>\n      <td>Hey, can you find me the nearest book store?</td>\n      <td>0</td>\n      <td>[Hey, , can, you, find, me, the, nearest, book...</td>\n    </tr>\n    <tr>\n      <th>1</th>\n      <td>387547</td>\n      <td>How do your know my name</td>\n      <td>1</td>\n      <td>[How, do, your, know, my, name]</td>\n    </tr>\n    <tr>\n      <th>2</th>\n      <td>80045</td>\n      <td>So should I eligible for cashback?</td>\n      <td>0</td>\n      <td>[So, should, I, eligible, for, cashback, ]</td>\n    </tr>\n    <tr>\n      <th>3</th>\n      <td>417835</td>\n      <td>paradeep. 👍</td>\n      <td>1</td>\n      <td>[paradeep, , , ]</td>\n    </tr>\n    <tr>\n      <th>4</th>\n      <td>386038</td>\n      <td>U r person</td>\n      <td>1</td>\n      <td>[U, r, person]</td>\n    </tr>\n  </tbody>\n</table>\n</div>",
            "text/plain": "      uid                                       message  label  \\\n0  202723  Hey, can you find me the nearest book store?      0   \n1  387547                      How do your know my name      1   \n2   80045            So should I eligible for cashback?      0   \n3  417835                                   paradeep. 👍      1   \n4  386038                                    U r person      1   \n\n                                         message_pre  \n0  [Hey, , can, you, find, me, the, nearest, book...  \n1                    [How, do, your, know, my, name]  \n2         [So, should, I, eligible, for, cashback, ]  \n3                                   [paradeep, , , ]  \n4                                     [U, r, person]  "
          },
          "metadata": {}
        }
      ]
    },
    {
      "metadata": {
        "trusted": true
      },
      "cell_type": "code",
      "source": "from nltk.stem.porter import *\nstemmer = PorterStemmer()\ndata['message_pre']=data['message_pre'].apply(lambda x: [stemmer.stem(i) for i in x])",
      "execution_count": 15,
      "outputs": []
    },
    {
      "metadata": {
        "trusted": true
      },
      "cell_type": "code",
      "source": "data.head()",
      "execution_count": 16,
      "outputs": [
        {
          "output_type": "execute_result",
          "execution_count": 16,
          "data": {
            "text/html": "<div>\n<style scoped>\n    .dataframe tbody tr th:only-of-type {\n        vertical-align: middle;\n    }\n\n    .dataframe tbody tr th {\n        vertical-align: top;\n    }\n\n    .dataframe thead th {\n        text-align: right;\n    }\n</style>\n<table border=\"1\" class=\"dataframe\">\n  <thead>\n    <tr style=\"text-align: right;\">\n      <th></th>\n      <th>uid</th>\n      <th>message</th>\n      <th>label</th>\n      <th>message_pre</th>\n    </tr>\n  </thead>\n  <tbody>\n    <tr>\n      <th>0</th>\n      <td>202723</td>\n      <td>Hey, can you find me the nearest book store?</td>\n      <td>0</td>\n      <td>[hey, , can, you, find, me, the, nearest, book...</td>\n    </tr>\n    <tr>\n      <th>1</th>\n      <td>387547</td>\n      <td>How do your know my name</td>\n      <td>1</td>\n      <td>[how, do, your, know, my, name]</td>\n    </tr>\n    <tr>\n      <th>2</th>\n      <td>80045</td>\n      <td>So should I eligible for cashback?</td>\n      <td>0</td>\n      <td>[So, should, I, elig, for, cashback, ]</td>\n    </tr>\n    <tr>\n      <th>3</th>\n      <td>417835</td>\n      <td>paradeep. 👍</td>\n      <td>1</td>\n      <td>[paradeep, , , ]</td>\n    </tr>\n    <tr>\n      <th>4</th>\n      <td>386038</td>\n      <td>U r person</td>\n      <td>1</td>\n      <td>[U, r, person]</td>\n    </tr>\n  </tbody>\n</table>\n</div>",
            "text/plain": "      uid                                       message  label  \\\n0  202723  Hey, can you find me the nearest book store?      0   \n1  387547                      How do your know my name      1   \n2   80045            So should I eligible for cashback?      0   \n3  417835                                   paradeep. 👍      1   \n4  386038                                    U r person      1   \n\n                                         message_pre  \n0  [hey, , can, you, find, me, the, nearest, book...  \n1                    [how, do, your, know, my, name]  \n2             [So, should, I, elig, for, cashback, ]  \n3                                   [paradeep, , , ]  \n4                                     [U, r, person]  "
          },
          "metadata": {}
        }
      ]
    },
    {
      "metadata": {
        "trusted": true
      },
      "cell_type": "code",
      "source": "data['message_pre']=data['message_pre'].apply(lambda x: ' '.join(x))",
      "execution_count": 18,
      "outputs": []
    },
    {
      "metadata": {
        "trusted": true
      },
      "cell_type": "code",
      "source": "data.head()",
      "execution_count": 19,
      "outputs": [
        {
          "output_type": "execute_result",
          "execution_count": 19,
          "data": {
            "text/html": "<div>\n<style scoped>\n    .dataframe tbody tr th:only-of-type {\n        vertical-align: middle;\n    }\n\n    .dataframe tbody tr th {\n        vertical-align: top;\n    }\n\n    .dataframe thead th {\n        text-align: right;\n    }\n</style>\n<table border=\"1\" class=\"dataframe\">\n  <thead>\n    <tr style=\"text-align: right;\">\n      <th></th>\n      <th>uid</th>\n      <th>message</th>\n      <th>label</th>\n      <th>message_pre</th>\n    </tr>\n  </thead>\n  <tbody>\n    <tr>\n      <th>0</th>\n      <td>202723</td>\n      <td>Hey, can you find me the nearest book store?</td>\n      <td>0</td>\n      <td>hey  can you find me the nearest book store</td>\n    </tr>\n    <tr>\n      <th>1</th>\n      <td>387547</td>\n      <td>How do your know my name</td>\n      <td>1</td>\n      <td>how do your know my name</td>\n    </tr>\n    <tr>\n      <th>2</th>\n      <td>80045</td>\n      <td>So should I eligible for cashback?</td>\n      <td>0</td>\n      <td>So should I elig for cashback</td>\n    </tr>\n    <tr>\n      <th>3</th>\n      <td>417835</td>\n      <td>paradeep. 👍</td>\n      <td>1</td>\n      <td>paradeep</td>\n    </tr>\n    <tr>\n      <th>4</th>\n      <td>386038</td>\n      <td>U r person</td>\n      <td>1</td>\n      <td>U r person</td>\n    </tr>\n  </tbody>\n</table>\n</div>",
            "text/plain": "      uid                                       message  label  \\\n0  202723  Hey, can you find me the nearest book store?      0   \n1  387547                      How do your know my name      1   \n2   80045            So should I eligible for cashback?      0   \n3  417835                                   paradeep. 👍      1   \n4  386038                                    U r person      1   \n\n                                    message_pre  \n0  hey  can you find me the nearest book store   \n1                      how do your know my name  \n2                So should I elig for cashback   \n3                                   paradeep     \n4                                    U r person  "
          },
          "metadata": {}
        }
      ]
    },
    {
      "metadata": {
        "trusted": true
      },
      "cell_type": "code",
      "source": "from sklearn.feature_extraction.text import TfidfVectorizer\ntfidf_vectorizer = TfidfVectorizer(max_df=0.90, min_df=2, max_features=1000, stop_words='english')\n# TF-IDF feature matrix\ntfidf = tfidf_vectorizer.fit_transform(data['message_pre'])",
      "execution_count": 20,
      "outputs": []
    },
    {
      "metadata": {
        "trusted": true
      },
      "cell_type": "code",
      "source": "tfidf.shape\n",
      "execution_count": 24,
      "outputs": [
        {
          "output_type": "execute_result",
          "execution_count": 24,
          "data": {
            "text/plain": "(182234, 1000)"
          },
          "metadata": {}
        }
      ]
    },
    {
      "metadata": {
        "trusted": true
      },
      "cell_type": "code",
      "source": "tfidf.shape[0]*0.80,tfidf.shape[0]*0.20",
      "execution_count": 30,
      "outputs": [
        {
          "output_type": "execute_result",
          "execution_count": 30,
          "data": {
            "text/plain": "(145787.2, 36446.8)"
          },
          "metadata": {}
        }
      ]
    },
    {
      "metadata": {
        "trusted": true
      },
      "cell_type": "code",
      "source": "from sklearn.linear_model import LogisticRegression\nfrom sklearn.model_selection import train_test_split\nfrom sklearn.metrics import f1_score\n",
      "execution_count": 31,
      "outputs": []
    },
    {
      "metadata": {
        "trusted": true
      },
      "cell_type": "code",
      "source": "# splitting data into training and validation set\nxtrain_bow, xvalid_bow, ytrain, yvalid = train_test_split(tfidf, data['label'], random_state=42, test_size=0.2)",
      "execution_count": 32,
      "outputs": []
    },
    {
      "metadata": {
        "trusted": true
      },
      "cell_type": "code",
      "source": "xtrain_bow.shape, ytrain.shape",
      "execution_count": 34,
      "outputs": [
        {
          "output_type": "execute_result",
          "execution_count": 34,
          "data": {
            "text/plain": "((145787, 1000), (145787,))"
          },
          "metadata": {}
        }
      ]
    },
    {
      "metadata": {
        "trusted": true
      },
      "cell_type": "code",
      "source": "xvalid_bow.shape,yvalid.shape",
      "execution_count": 35,
      "outputs": [
        {
          "output_type": "execute_result",
          "execution_count": 35,
          "data": {
            "text/plain": "((36447, 1000), (36447,))"
          },
          "metadata": {}
        }
      ]
    },
    {
      "metadata": {
        "trusted": true
      },
      "cell_type": "code",
      "source": "lreg = LogisticRegression()",
      "execution_count": 36,
      "outputs": []
    },
    {
      "metadata": {
        "trusted": true
      },
      "cell_type": "code",
      "source": "lreg.fit(xtrain_bow, ytrain)\n\nprediction = lreg.predict_proba(xvalid_bow)\nprediction_int = prediction[:,1] >= 0.5\nprediction_int = prediction_int.astype(np.int)\n\nf1_score(yvalid, prediction_int)",
      "execution_count": 43,
      "outputs": [
        {
          "output_type": "execute_result",
          "execution_count": 43,
          "data": {
            "text/plain": "0.8694170133841295"
          },
          "metadata": {}
        }
      ]
    },
    {
      "metadata": {},
      "cell_type": "markdown",
      "source": "#### Accuracy varying with threshold\n\n\n0.8685258964143426  - 0.4\n\n0.8619169510807736 -0.3\n\n0.8694170133841295  -0.5\n"
    },
    {
      "metadata": {
        "trusted": true
      },
      "cell_type": "code",
      "source": "yvalid.value_counts()",
      "execution_count": 47,
      "outputs": [
        {
          "output_type": "execute_result",
          "execution_count": 47,
          "data": {
            "text/plain": "1    18968\n0    17479\nName: label, dtype: int64"
          },
          "metadata": {}
        }
      ]
    },
    {
      "metadata": {
        "trusted": true
      },
      "cell_type": "code",
      "source": "pd.Series(prediction_int).value_counts()",
      "execution_count": 50,
      "outputs": [
        {
          "output_type": "execute_result",
          "execution_count": 50,
          "data": {
            "text/plain": "1    20930\n0    15517\ndtype: int64"
          },
          "metadata": {}
        }
      ]
    },
    {
      "metadata": {
        "trusted": true
      },
      "cell_type": "code",
      "source": "from sklearn.metrics import confusion_matrix\nconfusion_matrix(yvalid, prediction_int)",
      "execution_count": 51,
      "outputs": [
        {
          "output_type": "execute_result",
          "execution_count": 51,
          "data": {
            "text/plain": "array([[13893,  3586],\n       [ 1624, 17344]])"
          },
          "metadata": {}
        }
      ]
    },
    {
      "metadata": {
        "trusted": true
      },
      "cell_type": "code",
      "source": "",
      "execution_count": null,
      "outputs": []
    }
  ],
  "metadata": {
    "kernelspec": {
      "name": "python36",
      "display_name": "Python 3.6",
      "language": "python"
    },
    "language_info": {
      "mimetype": "text/x-python",
      "nbconvert_exporter": "python",
      "name": "python",
      "pygments_lexer": "ipython3",
      "version": "3.6.6",
      "file_extension": ".py",
      "codemirror_mode": {
        "version": 3,
        "name": "ipython"
      }
    }
  },
  "nbformat": 4,
  "nbformat_minor": 2
}