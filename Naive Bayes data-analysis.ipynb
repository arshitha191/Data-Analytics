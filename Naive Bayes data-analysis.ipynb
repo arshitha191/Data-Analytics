{
 "cells": [
  {
   "cell_type": "markdown",
   "metadata": {},
   "source": [
    "# Naive Bayes in NLP"
   ]
  },
  {
   "cell_type": "markdown",
   "metadata": {},
   "source": [
    "**Naive Bayes**\n",
    "* Introduction: https://en.wikipedia.org/wiki/Naive_Bayes_classifier\n",
    "* Library: http://scikit-learn.org/stable/modules/naive_bayes.html\n",
    "---"
   ]
  },
  {
   "cell_type": "code",
   "execution_count": null,
   "metadata": {},
   "outputs": [],
   "source": [
    "import pandas as pd\n",
    "import numpy as np"
   ]
  },
  {
   "cell_type": "code",
   "execution_count": null,
   "metadata": {},
   "outputs": [],
   "source": [
    "# Source: https://github.com/sjwhitworth/golearn/blob/master/examples/datasets/tennis.csv\n",
    "df = pd.read_csv('https://raw.githubusercontent.com/sjwhitworth/golearn/master/examples/datasets/tennis.csv')\n",
    "df"
   ]
  },
  {
   "cell_type": "markdown",
   "metadata": {},
   "source": [
    "#### Compute prior probability"
   ]
  },
  {
   "cell_type": "code",
   "execution_count": null,
   "metadata": {},
   "outputs": [],
   "source": [
    "P_yes = (df['play'] == 'yes').sum() * 1. / df.shape[0]\n",
    "P_no  = (df['play'] == 'no').sum()  * 1. / df.shape[0]\n",
    "print (P_yes, P_no)"
   ]
  },
  {
   "cell_type": "markdown",
   "metadata": {},
   "source": [
    "#### Compute prior probability"
   ]
  },
  {
   "cell_type": "code",
   "execution_count": null,
   "metadata": {},
   "outputs": [],
   "source": [
    "np_outlook = np.array([[((df.play == c).values & (df.outlook == v).values).sum()\n",
    "                            for c in ['yes', 'no']]\n",
    "                               for v in ['sunny', 'rainy', 'overcast']])\n",
    "print (np_outlook)\n",
    "\n",
    "s = np_outlook.sum(axis=1)\n",
    "print (s)\n",
    "np_outlook = np_outlook * 1. / s.reshape((-1,1))\n",
    "print(np_outlook)\n",
    "df_outlook = pd.DataFrame(np_outlook,\n",
    "                          columns=['yes', 'no'])\n",
    "df_outlook.index = ['sunny', 'rainy', 'overcast']\n",
    "df_outlook\n",
    "# here overcast prob is 0 ,but it doesnot means it won't occur ,here i think comes why we need more data size "
   ]
  },
  {
   "cell_type": "code",
   "execution_count": null,
   "metadata": {},
   "outputs": [],
   "source": [
    "np_temp = np.array([[((df.play == c).values & (df.temp == v).values).sum()\n",
    "                            for c in ['yes', 'no']]\n",
    "                               for v in ['hot', 'mild', 'cool']])\n",
    "\n",
    "s = np_temp.sum(axis=1)\n",
    "np_temp = np_temp * 1. / s.reshape((-1,1))\n",
    "\n",
    "df_temp = pd.DataFrame(np_temp,\n",
    "                          columns=['yes', 'no'])\n",
    "df_temp.index = ['hot', 'mild', 'cool']\n",
    "df_temp"
   ]
  },
  {
   "cell_type": "code",
   "execution_count": null,
   "metadata": {},
   "outputs": [],
   "source": [
    "np_humidity = np.array([[((df.play == c).values & (df.humidity == v).values).sum()\n",
    "                            for c in ['yes', 'no']]\n",
    "                               for v in ['high', 'normal']])\n",
    "\n",
    "s = np_humidity.sum(axis=1)\n",
    "np_humidity = np_humidity * 1. / s.reshape((-1,1))\n",
    "\n",
    "df_humidity = pd.DataFrame(np_humidity,\n",
    "                          columns=['yes', 'no'])\n",
    "df_humidity.index = ['high', 'normal']\n",
    "df_humidity"
   ]
  },
  {
   "cell_type": "code",
   "execution_count": null,
   "metadata": {},
   "outputs": [],
   "source": [
    "np_windy = np.array([[((df.play == c).values & (df.windy == v).values).sum()\n",
    "                            for c in ['yes', 'no']]\n",
    "                               for v in [True, False]])\n",
    "\n",
    "s = np_windy.sum(axis=1)\n",
    "np_windy = np_windy * 1. / s.reshape((-1,1))\n",
    "\n",
    "df_windy = pd.DataFrame(np_windy,\n",
    "                          columns=['yes', 'no'])\n",
    "df_windy.index = ['True', 'False']\n",
    "df_windy"
   ]
  },
  {
   "cell_type": "markdown",
   "metadata": {},
   "source": [
    "#### Testing"
   ]
  },
  {
   "cell_type": "code",
   "execution_count": null,
   "metadata": {},
   "outputs": [],
   "source": [
    "x = ['sunny', 'hot', 'normal', False]\n",
    "\n",
    "print (df_outlook.loc['sunny'])\n",
    "print (df_temp.loc['hot'])\n",
    "\n",
    "df_outlook.loc['sunny'] * df_temp.loc['hot']"
   ]
  },
  {
   "cell_type": "code",
   "execution_count": null,
   "metadata": {},
   "outputs": [],
   "source": [
    "df_outlook.loc['sunny'] * df_temp.loc['hot'] * df_humidity.loc['normal'] * df_windy.loc['False']"
   ]
  },
  {
   "cell_type": "markdown",
   "metadata": {},
   "source": [
    "##### Test 2"
   ]
  },
  {
   "cell_type": "code",
   "execution_count": null,
   "metadata": {},
   "outputs": [],
   "source": [
    "x = ['overcast', 'hot', 'normal', False]\n",
    "df_outlook.loc['overcast'] * df_temp.loc['hot'] * df_humidity.loc['normal'] * df_windy.loc['False']\n",
    "#here no is zero so here it is know as unknown problem as in above dataset overcast is zero "
   ]
  },
  {
   "cell_type": "markdown",
   "metadata": {},
   "source": [
    "## Using **scikit-learn**"
   ]
  },
  {
   "cell_type": "markdown",
   "metadata": {},
   "source": [
    "**Datasets**\n",
    "\n",
    "I have  download a Diabetes dataset available here: https://www.kaggle.com/uciml/pima-indians-diabetes-database/data\n",
    "\n",
    "---"
   ]
  },
  {
   "cell_type": "code",
   "execution_count": null,
   "metadata": {},
   "outputs": [],
   "source": [
    "df1 = pd.read_csv('https://github.com/jbrownlee/Datasets/raw/master/pima-indians-diabetes.data.csv', header=None)\n",
    "df1.columns = ['Pregnancies', 'Glucose', 'BloodPressure', \n",
    "              'SkinThickness', 'Insulin', 'BMI', \n",
    "              'DiabetesPedigreeFunction', 'Age', 'Outcome']"
   ]
  },
  {
   "cell_type": "code",
   "execution_count": null,
   "metadata": {},
   "outputs": [],
   "source": [
    "df1"
   ]
  },
  {
   "cell_type": "code",
   "execution_count": null,
   "metadata": {},
   "outputs": [],
   "source": [
    "cols = df1.columns\n",
    "X = df1[cols[:-1]]\n",
    "y = df1[cols[-1]]"
   ]
  },
  {
   "cell_type": "code",
   "execution_count": null,
   "metadata": {},
   "outputs": [],
   "source": [
    "from sklearn.naive_bayes import GaussianNB, MultinomialNB"
   ]
  },
  {
   "cell_type": "markdown",
   "metadata": {},
   "source": [
    "## Using Gaussian"
   ]
  },
  {
   "cell_type": "markdown",
   "metadata": {},
   "source": [
    "$$P(x|c_k) = \\frac{1}{\\sqrt{2\\pi\\sigma_k^c}} e^{-\\frac{{(x-\\mu_k)}^2}{2\\sigma_k^2}}$$"
   ]
  },
  {
   "cell_type": "code",
   "execution_count": null,
   "metadata": {},
   "outputs": [],
   "source": [
    "gNB = GaussianNB()"
   ]
  },
  {
   "cell_type": "code",
   "execution_count": null,
   "metadata": {},
   "outputs": [],
   "source": [
    "gNB.fit(X, y)"
   ]
  },
  {
   "cell_type": "code",
   "execution_count": null,
   "metadata": {},
   "outputs": [],
   "source": [
    "gNB.score(X, y)"
   ]
  },
  {
   "cell_type": "code",
   "execution_count": null,
   "metadata": {},
   "outputs": [],
   "source": [
    "gNB.class_prior_"
   ]
  },
  {
   "cell_type": "code",
   "execution_count": null,
   "metadata": {},
   "outputs": [],
   "source": [
    "gNB.sigma_"
   ]
  },
  {
   "cell_type": "markdown",
   "metadata": {},
   "source": [
    "## Using Multinomial"
   ]
  },
  {
   "cell_type": "code",
   "execution_count": null,
   "metadata": {},
   "outputs": [],
   "source": [
    "MultinomialNB().fit(X,y).score(X,y)"
   ]
  },
  {
   "cell_type": "markdown",
   "metadata": {},
   "source": [
    "## I have tried with one more dataset"
   ]
  },
  {
   "cell_type": "markdown",
   "metadata": {},
   "source": [
    "**Breast Cancer Dataset**\n",
    "* Data: https://github.com/jbrownlee/Datasets/blob/master/breast-cancer.csv\n",
    "* Description: https://github.com/jbrownlee/Datasets/blob/master/breast-cancer.names"
   ]
  },
  {
   "cell_type": "code",
   "execution_count": null,
   "metadata": {},
   "outputs": [],
   "source": [
    "from sklearn import datasets"
   ]
  },
  {
   "cell_type": "code",
   "execution_count": null,
   "metadata": {},
   "outputs": [],
   "source": [
    "df2 = pd.read_csv('https://github.com/jbrownlee/Datasets/raw/master/breast-cancer.csv', header=None)\n",
    "df2.columns = ['age', 'menopause', 'tumor-size', 'inv-nodes', 'node-caps', 'deg-malig', 'breast', 'breast-quad', 'irradiat', 'Class']"
   ]
  },
  {
   "cell_type": "code",
   "execution_count": null,
   "metadata": {},
   "outputs": [],
   "source": [
    "print (df2.shape)\n",
    "df2 = df2.dropna()\n",
    "print (df2.shape)"
   ]
  },
  {
   "cell_type": "code",
   "execution_count": null,
   "metadata": {},
   "outputs": [],
   "source": [
    "df2"
   ]
  },
  {
   "cell_type": "code",
   "execution_count": null,
   "metadata": {},
   "outputs": [],
   "source": [
    "cols2 = df2.columns\n",
    "X2 = df2[cols2[:-1]]\n",
    "y2 = df2[cols2[-1]]"
   ]
  },
  {
   "cell_type": "code",
   "execution_count": null,
   "metadata": {},
   "outputs": [],
   "source": [
    "mNB = MultinomialNB()\n",
    "mNB.fit(X2, y2)"
   ]
  },
  {
   "cell_type": "code",
   "execution_count": null,
   "metadata": {},
   "outputs": [],
   "source": [
    "from sklearn.preprocessing import LabelEncoder, OneHotEncoder"
   ]
  },
  {
   "cell_type": "code",
   "execution_count": null,
   "metadata": {},
   "outputs": [],
   "source": [
    "le = LabelEncoder()\n",
    "df2_ = df2.apply(le.fit_transform)"
   ]
  },
  {
   "cell_type": "code",
   "execution_count": null,
   "metadata": {},
   "outputs": [],
   "source": [
    "df2_"
   ]
  },
  {
   "cell_type": "code",
   "execution_count": null,
   "metadata": {},
   "outputs": [],
   "source": [
    "print (le.classes_)"
   ]
  },
  {
   "cell_type": "code",
   "execution_count": null,
   "metadata": {},
   "outputs": [],
   "source": [
    "cols2 = df2_.columns\n",
    "X2 = df2_[cols2[:-1]]\n",
    "y2 = df2_[cols2[-1]]"
   ]
  },
  {
   "cell_type": "code",
   "execution_count": null,
   "metadata": {},
   "outputs": [],
   "source": [
    "GaussianNB().fit(X2, y2).score(X2, y2)"
   ]
  },
  {
   "cell_type": "code",
   "execution_count": null,
   "metadata": {},
   "outputs": [],
   "source": [
    "MultinomialNB().fit(X2, y2).score(X2, y2)"
   ]
  },
  {
   "cell_type": "markdown",
   "metadata": {},
   "source": [
    "# Naive Bayes in Sentiment Analysis"
   ]
  },
  {
   "cell_type": "markdown",
   "metadata": {},
   "source": [
    "Dataset source: https://github.com/ApoorvP02121996/Sentiment-Analysis---Movie-Reviews/blob/master/Naive%20Bayes/training_set.csv"
   ]
  },
  {
   "cell_type": "code",
   "execution_count": null,
   "metadata": {},
   "outputs": [],
   "source": [
    "df3 = pd.read_csv('https://github.com/ApoorvP02121996/Sentiment-Analysis---Movie-Reviews/raw/master/Naive%20Bayes/training_set.csv')\n",
    "df3.columns = ['target', 'text']\n",
    "\n",
    "print (df3.shape)\n",
    "df3.head()"
   ]
  },
  {
   "cell_type": "code",
   "execution_count": null,
   "metadata": {},
   "outputs": [],
   "source": [
    "from sklearn.feature_extraction.text import CountVectorizer\n",
    "from sklearn import metrics"
   ]
  },
  {
   "cell_type": "code",
   "execution_count": null,
   "metadata": {},
   "outputs": [],
   "source": [
    "vectorizer = CountVectorizer(stop_words='english')\n",
    "vectorizer"
   ]
  },
  {
   "cell_type": "code",
   "execution_count": null,
   "metadata": {},
   "outputs": [],
   "source": [
    "df3.text = df3.text.apply(lambda e: e.decode(errors='ignore'))"
   ]
  },
  {
   "cell_type": "code",
   "execution_count": null,
   "metadata": {},
   "outputs": [],
   "source": [
    "train = df3[:4000]\n",
    "test  = df3[4000:]\n",
    "\n",
    "print train.shape, test.shape"
   ]
  },
  {
   "cell_type": "code",
   "execution_count": null,
   "metadata": {},
   "outputs": [],
   "source": [
    "vectorizer.fit(df3.text)\n",
    "train_features = vectorizer.transform(train.text)\n",
    "test_features  = vectorizer.transform(test.text)"
   ]
  },
  {
   "cell_type": "markdown",
   "metadata": {},
   "source": [
    "## Multinomial"
   ]
  },
  {
   "cell_type": "code",
   "execution_count": null,
   "metadata": {},
   "outputs": [],
   "source": [
    "mNB3_1 = MultinomialNB().fit(features, df3.target)\n",
    "print mNB3_1.score(train_features, train.target)\n",
    "print mNB3_1.score(test_features, test.target)"
   ]
  },
  {
   "cell_type": "code",
   "execution_count": null,
   "metadata": {},
   "outputs": [],
   "source": [
    "mNB3_2 = MultinomialNB(alpha=0.0000001).fit(train_features, train.target)\n",
    "print mNB3_2.score(train_features, train.target)\n",
    "print mNB3_2.score(test_features, test.target)"
   ]
  },
  {
   "cell_type": "code",
   "execution_count": null,
   "metadata": {},
   "outputs": [],
   "source": [
    "mNB3_3 = MultinomialNB(alpha=10).fit(train_features, train.target)\n",
    "print mNB3_3.score(train_features, train.target)\n",
    "print mNB3_3.score(test_features, test.target)"
   ]
  },
  {
   "cell_type": "markdown",
   "metadata": {},
   "source": [
    "## Gaussian"
   ]
  },
  {
   "cell_type": "code",
   "execution_count": null,
   "metadata": {},
   "outputs": [],
   "source": [
    "gNB3_1 = GaussianNB().fit(train_features.todense(), train.target)\n",
    "print gNB3_1.score(train_features.todense(), train.target)\n",
    "print gNB3_1.score(test_features.todense(), test.target)"
   ]
  },
  {
   "cell_type": "code",
   "execution_count": null,
   "metadata": {},
   "outputs": [],
   "source": []
  },
  {
   "cell_type": "code",
   "execution_count": null,
   "metadata": {},
   "outputs": [],
   "source": []
  },
  {
   "cell_type": "code",
   "execution_count": null,
   "metadata": {},
   "outputs": [],
   "source": []
  },
  {
   "cell_type": "code",
   "execution_count": null,
   "metadata": {},
   "outputs": [],
   "source": []
  }
 ],
 "metadata": {
  "kernelspec": {
   "display_name": "Python 3",
   "language": "python",
   "name": "python3"
  },
  "language_info": {
   "codemirror_mode": {
    "name": "ipython",
    "version": 3
   },
   "file_extension": ".py",
   "mimetype": "text/x-python",
   "name": "python",
   "nbconvert_exporter": "python",
   "pygments_lexer": "ipython3",
   "version": "3.6.4"
  }
 },
 "nbformat": 4,
 "nbformat_minor": 2
}
